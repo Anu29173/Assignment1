{
  "nbformat": 4,
  "nbformat_minor": 0,
  "metadata": {
    "colab": {
      "provenance": [],
      "authorship_tag": "ABX9TyMCRyxW0gQ3ZSSP1LI2TymV",
      "include_colab_link": true
    },
    "kernelspec": {
      "name": "python3",
      "display_name": "Python 3"
    },
    "language_info": {
      "name": "python"
    }
  },
  "cells": [
    {
      "cell_type": "markdown",
      "metadata": {
        "id": "view-in-github",
        "colab_type": "text"
      },
      "source": [
        "<a href=\"https://colab.research.google.com/github/Anupama598-ui/Assignment1/blob/main/Untitled2.ipynb\" target=\"_parent\"><img src=\"https://colab.research.google.com/assets/colab-badge.svg\" alt=\"Open In Colab\"/></a>"
      ]
    },
    {
      "cell_type": "code",
      "execution_count": 3,
      "metadata": {
        "colab": {
          "base_uri": "https://localhost:8080/"
        },
        "id": "3GozmaDZByQV",
        "outputId": "c283e6f9-a519-405f-f967-844438c94073"
      },
      "outputs": [
        {
          "output_type": "execute_result",
          "data": {
            "text/plain": [
              "1.7"
            ]
          },
          "metadata": {},
          "execution_count": 3
        }
      ],
      "source": [
        "round(1.68,1)"
      ]
    },
    {
      "cell_type": "code",
      "source": [
        "def my_function():\n",
        "  print(\"Hello From My Function!\")\n",
        "my_function()"
      ],
      "metadata": {
        "colab": {
          "base_uri": "https://localhost:8080/"
        },
        "id": "pZniDu96CqyF",
        "outputId": "e6f97652-9df2-43bf-be34-71f3dcbac956"
      },
      "execution_count": 11,
      "outputs": [
        {
          "output_type": "stream",
          "name": "stdout",
          "text": [
            "Hello From My Function!\n"
          ]
        }
      ]
    },
    {
      "cell_type": "code",
      "source": [
        "def square(n):\n",
        "  '''This function calculates the square of a given number'''\n",
        "  res = n *n\n",
        "  print(\"square(\",n,\") = \" , res)\n",
        "num = int(input(\"Enter a number\"))\n",
        "square(num)"
      ],
      "metadata": {
        "colab": {
          "base_uri": "https://localhost:8080/"
        },
        "id": "1mJnNuSWD1gN",
        "outputId": "8ff5b2b5-423c-417e-df83-07194c3a9e54"
      },
      "execution_count": 13,
      "outputs": [
        {
          "output_type": "stream",
          "name": "stdout",
          "text": [
            "Enter a number2\n",
            "square( 2 ) =  4\n"
          ]
        }
      ]
    },
    {
      "cell_type": "code",
      "source": [
        "def square(n):\n",
        "  res = n * n\n",
        "  return res\n",
        "num = int(input(\"Enter a Number\"))\n",
        "res = square(num)\n",
        "print(\"Square of\",num,\"=\",res)"
      ],
      "metadata": {
        "colab": {
          "base_uri": "https://localhost:8080/"
        },
        "id": "6jQyJktAFQDN",
        "outputId": "b9d1b2e3-01ca-4309-db17-506b8097558c"
      },
      "execution_count": 14,
      "outputs": [
        {
          "output_type": "stream",
          "name": "stdout",
          "text": [
            "Enter a Number5\n",
            "Square of 5 = 25\n"
          ]
        }
      ]
    },
    {
      "cell_type": "code",
      "source": [
        "def add(a , b):\n",
        "  total = a + b\n",
        "  print('Total = ' , total)\n",
        "add(4 , 9)"
      ],
      "metadata": {
        "colab": {
          "base_uri": "https://localhost:8080/"
        },
        "id": "e2wTwdj2HE4O",
        "outputId": "585685bb-d54c-4673-b4f0-f557f306f320"
      },
      "execution_count": 18,
      "outputs": [
        {
          "output_type": "stream",
          "name": "stdout",
          "text": [
            "Total =  13\n"
          ]
        }
      ]
    },
    {
      "cell_type": "code",
      "source": [
        "total = 0\n",
        "def add(a , b):\n",
        "  global total\n",
        "  total = a + b\n",
        "  print('Inside add Total = ' , total)\n",
        "add(4 , 9)\n",
        "print('Main Block Total = ' , total)"
      ],
      "metadata": {
        "colab": {
          "base_uri": "https://localhost:8080/"
        },
        "id": "8ld8jh3mHuPl",
        "outputId": "424c9217-eb70-43b8-b8d5-4438ca6e7ed0"
      },
      "execution_count": 22,
      "outputs": [
        {
          "output_type": "stream",
          "name": "stdout",
          "text": [
            "Inside add Total =  13\n",
            "Main Block Total =  13\n"
          ]
        }
      ]
    },
    {
      "cell_type": "code",
      "source": [
        "def calculateTotal(amount , discountPercentage = 0):\n",
        "  discountAmount = discountPercentage / 100 * amount\n",
        "  return amount - discountAmount\n",
        "amount = 500\n",
        "totalBillAmount = calculateTotal(amount , 10)\n",
        "print(totalBillAmount)\n",
        "amount = 500\n",
        "totalBillAmount = calculateTotal(amount)\n",
        "print(totalBillAmount)"
      ],
      "metadata": {
        "colab": {
          "base_uri": "https://localhost:8080/"
        },
        "id": "SHG1djqkIDAF",
        "outputId": "e29efd51-0c25-471c-e47d-15efdf02a5d9"
      },
      "execution_count": 23,
      "outputs": [
        {
          "output_type": "stream",
          "name": "stdout",
          "text": [
            "450.0\n",
            "500.0\n"
          ]
        }
      ]
    },
    {
      "cell_type": "code",
      "source": [
        "def fun(a,b,c):\n",
        "  print(\"a = \" , a)\n",
        "  print(\"b = \" , b)\n",
        "  print(\"c = \" , c)\n",
        "fun(5,10,15)"
      ],
      "metadata": {
        "colab": {
          "base_uri": "https://localhost:8080/"
        },
        "id": "GrTAR7rUK5YH",
        "outputId": "46123059-3e91-4f45-d0f9-385b04d1eaf3"
      },
      "execution_count": 26,
      "outputs": [
        {
          "output_type": "stream",
          "name": "stdout",
          "text": [
            "a =  5\n",
            "b =  10\n",
            "c =  15\n"
          ]
        }
      ]
    },
    {
      "cell_type": "code",
      "source": [
        "def mymax(a,*b):\n",
        "  small = a\n",
        "  for ele in b:\n",
        "      if ele < small:\n",
        "          small = ele\n",
        "  return small\n",
        "print(mymax(4,5,7,3,1,8,2,))"
      ],
      "metadata": {
        "colab": {
          "base_uri": "https://localhost:8080/"
        },
        "id": "5pZItJnRMTkh",
        "outputId": "777727dc-07be-499b-eb4a-86d37046b1c4"
      },
      "execution_count": 29,
      "outputs": [
        {
          "output_type": "stream",
          "name": "stdout",
          "text": [
            "1\n"
          ]
        }
      ]
    },
    {
      "cell_type": "code",
      "source": [
        "def multiply(x , y):\n",
        "  return x * y\n",
        "a = 4\n",
        "b = 7\n",
        "operation = multiply\n",
        "print(operation(a,b))"
      ],
      "metadata": {
        "colab": {
          "base_uri": "https://localhost:8080/"
        },
        "id": "qu0AttBdOXFh",
        "outputId": "63e83708-af7e-4598-b84f-8418bc911a00"
      },
      "execution_count": 30,
      "outputs": [
        {
          "output_type": "stream",
          "name": "stdout",
          "text": [
            "28\n"
          ]
        }
      ]
    },
    {
      "cell_type": "code",
      "source": [
        "def add(a,b):\n",
        "  print(\"Add\")\n",
        "  return a + b\n",
        "def sub(a,b):\n",
        "  print(\"Sub\")\n",
        "  return a - b\n",
        "def mul(a,b):\n",
        "  print(\"Multiply\")\n",
        "  return a * b\n",
        "def div(a,b):\n",
        "  print(\"Divide\")\n",
        "  return a / b\n",
        "print(\"Arithmetic Operations \")\n",
        "print(\"Enter Two Numbers \")\n",
        "a = int(input())\n",
        "b = int(input())\n",
        "print(\"1.Add 2.Sub 3.Multiply 4.Divide\")\n",
        "ch = int(input())\n",
        "if ch == 1:\n",
        "  calculate = add\n",
        "elif ch == 2:\n",
        "  calculate = sub\n",
        "elif ch == 3:\n",
        "  calculate = mul\n",
        "else:\n",
        "  calculate = div\n",
        "res = calculate(a, b)\n",
        "print(res)\n"
      ],
      "metadata": {
        "colab": {
          "base_uri": "https://localhost:8080/"
        },
        "id": "TwDJoOh2YlgE",
        "outputId": "e89e8748-59b2-46ee-bbcb-e25621cfe8ce"
      },
      "execution_count": 35,
      "outputs": [
        {
          "output_type": "stream",
          "name": "stdout",
          "text": [
            "Arithmetic Operations \n",
            "Enter Two Numbers \n",
            "2\n",
            "3\n",
            "1.Add 2.Sub 3.Multiply 4.Divide\n",
            "1\n",
            "Add\n",
            "5\n"
          ]
        }
      ]
    },
    {
      "cell_type": "code",
      "source": [],
      "metadata": {
        "id": "uR_xA1MjiWun"
      },
      "execution_count": null,
      "outputs": []
    },
    {
      "cell_type": "code",
      "source": [
        "print(\"Welcome to Hotel TAJ\")\n",
        "print(\"1.Idly   - 10/-/n 2.Dosa   - 50/-/n 3.Puri   -20/-\\n 4.vada   -25/-\")\n",
        "ch=int(input(\"enter the order=\"))\n",
        "q=int(input(\"enter the quantity=\"))\n",
        "if ch==1:\n",
        "  calculate =q*10\n",
        "elif ch== 2 :\n",
        "  calculate=q*50\n",
        "elif ch==3:\n",
        "  calculate=q*20\n",
        "elif ch==4:\n",
        "  calculate=q*25\n",
        "print(\"total amount = \",calculate)"
      ],
      "metadata": {
        "colab": {
          "base_uri": "https://localhost:8080/"
        },
        "id": "vnjmM-l1gqsF",
        "outputId": "1b9e900f-2c86-4d60-e8d8-575f8fa5ef8d"
      },
      "execution_count": 39,
      "outputs": [
        {
          "output_type": "stream",
          "name": "stdout",
          "text": [
            "Welcome to Hotel TAJ\n",
            "1.Idly   - 10/-/n 2.Dosa   - 50/-/n 3.Puri   -20/-\n",
            " 4.vada   -25/-\n",
            "enter the order=1\n",
            "enter the quantity=2\n",
            "total amount =  20\n"
          ]
        }
      ]
    },
    {
      "cell_type": "code",
      "source": [
        "math = 45\n",
        "science = 23\n",
        "social = 28\n",
        "marksList = [math , science , social]\n",
        "print(marksList)"
      ],
      "metadata": {
        "colab": {
          "base_uri": "https://localhost:8080/"
        },
        "id": "Hjzm5kV61UmM",
        "outputId": "05653c93-8492-4ba7-eef4-8bfb780e4412"
      },
      "execution_count": 42,
      "outputs": [
        {
          "output_type": "stream",
          "name": "stdout",
          "text": [
            "[45, 23, 28]\n"
          ]
        }
      ]
    },
    {
      "cell_type": "code",
      "source": [
        "print(marksList)\n",
        "print(marksList[0])\n",
        "print(marksList[-1])\n"
      ],
      "metadata": {
        "colab": {
          "base_uri": "https://localhost:8080/"
        },
        "id": "feY-XKyj2Poc",
        "outputId": "6d868053-9b9a-4b04-f5c0-3a1b6f998aa0"
      },
      "execution_count": 44,
      "outputs": [
        {
          "output_type": "stream",
          "name": "stdout",
          "text": [
            "[45, 23, 28]\n",
            "45\n",
            "28\n"
          ]
        }
      ]
    },
    {
      "cell_type": "code",
      "source": [
        "list = [1,2,3,4,5]\n",
        "print(len(list))\n",
        "max(list)\n",
        "min(list)\n",
        "sum(list)\n",
        "sorted(list)"
      ],
      "metadata": {
        "colab": {
          "base_uri": "https://localhost:8080/"
        },
        "id": "PDBu5xWs2oas",
        "outputId": "55ce6dc2-82f5-49b5-f865-1bdf68ec8fce"
      },
      "execution_count": 54,
      "outputs": [
        {
          "output_type": "execute_result",
          "data": {
            "text/plain": [
              "[1, 2, 3, 4, 5]"
            ]
          },
          "metadata": {},
          "execution_count": 54
        }
      ]
    },
    {
      "cell_type": "code",
      "source": [
        "studListChitkara = ['Anupama','blessy','jessica']\n",
        "studListLPU = ['naveen','shyam','sandeep']\n",
        "combinedStudList = studListChitkara + studListLPU"
      ],
      "metadata": {
        "id": "rtTTRd_S4ICs"
      },
      "execution_count": null,
      "outputs": []
    },
    {
      "cell_type": "code",
      "source": [
        "arr = [1,2,3]\n",
        "arr = arr * 3\n",
        "arr"
      ],
      "metadata": {
        "colab": {
          "base_uri": "https://localhost:8080/"
        },
        "id": "c8sQhqk-47Q9",
        "outputId": "0326aa9a-9a04-45ae-b654-7c2928209d0c"
      },
      "execution_count": 55,
      "outputs": [
        {
          "output_type": "execute_result",
          "data": {
            "text/plain": [
              "[1, 2, 3, 1, 2, 3, 1, 2, 3]"
            ]
          },
          "metadata": {},
          "execution_count": 55
        }
      ]
    },
    {
      "cell_type": "code",
      "source": [
        "freq = [0] * 5\n",
        "freq"
      ],
      "metadata": {
        "colab": {
          "base_uri": "https://localhost:8080/"
        },
        "id": "nwJOOyG75Lq0",
        "outputId": "e2248e95-bf5e-4aba-8a74-e81a32a73ebb"
      },
      "execution_count": 56,
      "outputs": [
        {
          "output_type": "execute_result",
          "data": {
            "text/plain": [
              "[0, 0, 0, 0, 0]"
            ]
          },
          "metadata": {},
          "execution_count": 56
        }
      ]
    },
    {
      "cell_type": "code",
      "source": [
        "list = [2,5,3,1,4]\n",
        "list.append([20,30,40])\n",
        "print(list)"
      ],
      "metadata": {
        "colab": {
          "base_uri": "https://localhost:8080/"
        },
        "id": "ATgYBl-z790m",
        "outputId": "e765c0ef-40f8-41c0-b80b-a702bc32f1c1"
      },
      "execution_count": 63,
      "outputs": [
        {
          "output_type": "stream",
          "name": "stdout",
          "text": [
            "[2, 5, 3, 1, 4, [20, 30, 40]]\n"
          ]
        }
      ]
    },
    {
      "cell_type": "code",
      "source": [
        "list = [2,5,3,1,4]\n",
        "list.append([\"hello\"])\n",
        "print(list)"
      ],
      "metadata": {
        "colab": {
          "base_uri": "https://localhost:8080/"
        },
        "id": "WvktxKoH8iYe",
        "outputId": "0fc93648-5a21-4c6b-cd6a-1de6b916f0e1"
      },
      "execution_count": 64,
      "outputs": [
        {
          "output_type": "stream",
          "name": "stdout",
          "text": [
            "[2, 5, 3, 1, 4, ['hello']]\n"
          ]
        }
      ]
    },
    {
      "cell_type": "code",
      "source": [
        "list = [2,5,3,1,4]\n",
        "list.insert(1,10)\n",
        "print(list)"
      ],
      "metadata": {
        "colab": {
          "base_uri": "https://localhost:8080/"
        },
        "id": "LpCGp5TU9Dxl",
        "outputId": "a539b43c-f484-486d-a0bd-7f8854fa6b1e"
      },
      "execution_count": 66,
      "outputs": [
        {
          "output_type": "stream",
          "name": "stdout",
          "text": [
            "[2, 10, 5, 3, 1, 4]\n"
          ]
        }
      ]
    },
    {
      "cell_type": "code",
      "source": [
        "list = [2,5,3,1,4]\n",
        "list.extend([11,12,13])\n",
        "print(list)"
      ],
      "metadata": {
        "colab": {
          "base_uri": "https://localhost:8080/"
        },
        "id": "Fhk6KYHq9Ukl",
        "outputId": "03df3ed3-83e5-4f58-cdf5-c18615b5e1e4"
      },
      "execution_count": 67,
      "outputs": [
        {
          "output_type": "stream",
          "name": "stdout",
          "text": [
            "[2, 5, 3, 1, 4, 11, 12, 13]\n"
          ]
        }
      ]
    },
    {
      "cell_type": "code",
      "source": [
        "list = [2,5,3,1,4]\n",
        "list.pop()\n",
        "print(list)"
      ],
      "metadata": {
        "colab": {
          "base_uri": "https://localhost:8080/"
        },
        "id": "ipvpnEFn-DPh",
        "outputId": "22037a24-8f6d-4e2c-c22c-47e23d73b02c"
      },
      "execution_count": 68,
      "outputs": [
        {
          "output_type": "stream",
          "name": "stdout",
          "text": [
            "[2, 5, 3, 1]\n"
          ]
        }
      ]
    },
    {
      "cell_type": "code",
      "source": [
        "list = [2,5,3,1,4]\n",
        "list.pop(2)\n",
        "print(list)"
      ],
      "metadata": {
        "colab": {
          "base_uri": "https://localhost:8080/"
        },
        "id": "dMbUYsFG-Jol",
        "outputId": "62946e33-d6b9-4048-b351-e2a7956aa9c0"
      },
      "execution_count": 70,
      "outputs": [
        {
          "output_type": "stream",
          "name": "stdout",
          "text": [
            "[2, 5, 1, 4]\n"
          ]
        }
      ]
    },
    {
      "cell_type": "code",
      "source": [
        "list = [2,5,3,1,4]\n",
        "list.remove(3)\n",
        "print(list)"
      ],
      "metadata": {
        "colab": {
          "base_uri": "https://localhost:8080/"
        },
        "id": "2QZkwppi-Z2u",
        "outputId": "2e6e0261-bf6c-48c8-8b8a-047687661e49"
      },
      "execution_count": 71,
      "outputs": [
        {
          "output_type": "stream",
          "name": "stdout",
          "text": [
            "[2, 5, 1, 4]\n"
          ]
        }
      ]
    },
    {
      "cell_type": "code",
      "source": [
        "list = [2,5,3,1,4]\n",
        "list.count(3)\n"
      ],
      "metadata": {
        "colab": {
          "base_uri": "https://localhost:8080/"
        },
        "id": "uepoSpGt-pc-",
        "outputId": "385a2730-6697-452d-991e-6808245bab00"
      },
      "execution_count": 74,
      "outputs": [
        {
          "output_type": "execute_result",
          "data": {
            "text/plain": [
              "1"
            ]
          },
          "metadata": {},
          "execution_count": 74
        }
      ]
    },
    {
      "cell_type": "code",
      "source": [
        "list = [2,5,3,1,4,3,3]\n",
        "list.index(3)"
      ],
      "metadata": {
        "colab": {
          "base_uri": "https://localhost:8080/"
        },
        "id": "hFXaW0qF_Eve",
        "outputId": "055113e6-c9e8-401d-f0df-950115ad356f"
      },
      "execution_count": 75,
      "outputs": [
        {
          "output_type": "execute_result",
          "data": {
            "text/plain": [
              "2"
            ]
          },
          "metadata": {},
          "execution_count": 75
        }
      ]
    },
    {
      "cell_type": "code",
      "source": [
        "list = [2,5,3,1,4]\n",
        "list.sort()\n",
        "print(list)"
      ],
      "metadata": {
        "colab": {
          "base_uri": "https://localhost:8080/"
        },
        "id": "BOSNXn-R_UVW",
        "outputId": "4dd30b88-a5db-4671-83df-766e6743805b"
      },
      "execution_count": 78,
      "outputs": [
        {
          "output_type": "stream",
          "name": "stdout",
          "text": [
            "[1, 2, 3, 4, 5]\n"
          ]
        }
      ]
    },
    {
      "cell_type": "code",
      "source": [
        "list = [2,5,3,1,4]\n",
        "list.reverse()\n",
        "print(list)"
      ],
      "metadata": {
        "colab": {
          "base_uri": "https://localhost:8080/"
        },
        "id": "a5wxijAT_h89",
        "outputId": "acaeea9f-8391-436a-b4a7-550af3f0cbb0"
      },
      "execution_count": 79,
      "outputs": [
        {
          "output_type": "stream",
          "name": "stdout",
          "text": [
            "[4, 1, 3, 5, 2]\n"
          ]
        }
      ]
    },
    {
      "cell_type": "code",
      "source": [
        "n = int(input(\"Enter number of elements :\"))\n",
        "arr = []\n",
        "print(\"Enter the elements of list \")\n",
        "for i in range(n):\n",
        "  ele = int(input())\n",
        "  arr.append(ele)\n",
        "print(\"Elements of list are \")\n",
        "print(arr)\n"
      ],
      "metadata": {
        "colab": {
          "base_uri": "https://localhost:8080/"
        },
        "id": "sAlxVX2m_q_O",
        "outputId": "f2f14bfe-83bc-4a23-bde6-e6ca93be3015"
      },
      "execution_count": 82,
      "outputs": [
        {
          "output_type": "stream",
          "name": "stdout",
          "text": [
            "Enter number of elements :4\n",
            "Enter the elements of list \n",
            "1 \n",
            "4\n",
            "6\n",
            "9\n",
            "Elements of list are \n",
            "[1, 4, 6, 9]\n"
          ]
        }
      ]
    },
    {
      "cell_type": "code",
      "source": [
        "n = int(input(\"Enter number of elements :\"))\n",
        "arr = []\n",
        "print(\"Enter the elements of list \")\n",
        "for i in range(n):\n",
        "  ele = int(input())\n",
        "  arr.append(ele)\n",
        "print(\"Elements of list are \")\n",
        "print(arr)"
      ],
      "metadata": {
        "colab": {
          "base_uri": "https://localhost:8080/"
        },
        "id": "U4xAi4boA5CO",
        "outputId": "3475b3cb-f2d1-418c-eef8-631d4c53d57d"
      },
      "execution_count": 86,
      "outputs": [
        {
          "output_type": "stream",
          "name": "stdout",
          "text": [
            "Enter number of elements :3\n",
            "Enter the elements of list \n",
            "1\n",
            "2\n",
            "5\n",
            "Elements of list are \n",
            "[1, 2, 5]\n"
          ]
        }
      ]
    },
    {
      "cell_type": "code",
      "source": [
        "list = [2,1,3,4,5]\n",
        "print(list)\n",
        "list.sort()\n",
        "print(list)\n",
        "list.reverse()\n",
        "print(list)\n",
        "\n",
        "\n",
        "\n",
        "\n"
      ],
      "metadata": {
        "colab": {
          "base_uri": "https://localhost:8080/"
        },
        "id": "9hWV7Z-MDTlA",
        "outputId": "fbe800a8-68cb-46cd-fbe5-99a8f54ed1b9"
      },
      "execution_count": 108,
      "outputs": [
        {
          "output_type": "stream",
          "name": "stdout",
          "text": [
            "[2, 1, 3, 4, 5]\n",
            "[1, 2, 3, 4, 5]\n",
            "[5, 4, 3, 2, 1]\n"
          ]
        }
      ]
    },
    {
      "cell_type": "code",
      "source": [
        "nums = [21,23,43,56,87,43,21,32]\n",
        "print('List of Elements = ' ,nums)\n",
        "key = int(input('Enter the element to search '))\n",
        "try:\n",
        "  res = nums.index(key)\n",
        "  print('Element Found at Index ' , res)\n",
        "except:\n",
        "  print('Element Not Found')"
      ],
      "metadata": {
        "colab": {
          "base_uri": "https://localhost:8080/"
        },
        "id": "elJKKqgzGxei",
        "outputId": "126518e6-1855-47e0-a6e6-24f5a6c29551"
      },
      "execution_count": 105,
      "outputs": [
        {
          "output_type": "stream",
          "name": "stdout",
          "text": [
            "List of Elements =  [21, 23, 43, 56, 87, 43, 21, 32]\n",
            "Enter the element to search 43\n",
            "Element Found at Index  2\n"
          ]
        }
      ]
    }
  ]
}